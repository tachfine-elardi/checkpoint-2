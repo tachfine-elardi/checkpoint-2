{
 "cells": [
  {
   "cell_type": "code",
   "execution_count": 20,
   "id": "d8791d54",
   "metadata": {},
   "outputs": [],
   "source": [
    "def max_value(ok):\n",
    "    x = 0\n",
    "    for i in ok:\n",
    "        if i > x:\n",
    "            x =i\n",
    "    return x\n",
    "    "
   ]
  },
  {
   "cell_type": "code",
   "execution_count": 21,
   "id": "d41ec023",
   "metadata": {},
   "outputs": [
    {
     "data": {
      "text/plain": [
       "35"
      ]
     },
     "execution_count": 21,
     "metadata": {},
     "output_type": "execute_result"
    }
   ],
   "source": [
    "test([20, 35, 19])"
   ]
  },
  {
   "cell_type": "code",
   "execution_count": 27,
   "id": "1a30eea3",
   "metadata": {},
   "outputs": [],
   "source": [
    "x = lambda a,b: (a+b,a-b) "
   ]
  },
  {
   "cell_type": "code",
   "execution_count": 30,
   "id": "f1e926b6",
   "metadata": {},
   "outputs": [
    {
     "data": {
      "text/plain": [
       "(50, 30)"
      ]
     },
     "execution_count": 30,
     "metadata": {},
     "output_type": "execute_result"
    }
   ],
   "source": [
    "x(40, 10)"
   ]
  },
  {
   "cell_type": "code",
   "execution_count": 52,
   "id": "d25eb717",
   "metadata": {},
   "outputs": [],
   "source": [
    "def sum_list(d1):\n",
    "    return sum(d1)\n",
    "def mult_list(d2):\n",
    "    result = 1\n",
    "    for i in d2:\n",
    "        result = i * result\n",
    "    return result\n",
    "def ex3(l):\n",
    "    l_pair = [l[i] for i in range(len(l)) if i%2 == 0]\n",
    "    l_impair = [l[i] for i in range(len(l)) if i%2 != 0]\n",
    "    return sum_list(l_pair), mult_list(l_impair)"
   ]
  },
  {
   "cell_type": "code",
   "execution_count": 53,
   "id": "338d701a",
   "metadata": {},
   "outputs": [
    {
     "data": {
      "text/plain": [
       "(16, 8)"
      ]
     },
     "execution_count": 53,
     "metadata": {},
     "output_type": "execute_result"
    }
   ],
   "source": [
    "ex3([1,2,6,4,9])"
   ]
  },
  {
   "cell_type": "code",
   "execution_count": 5,
   "id": "5fe85fd8",
   "metadata": {},
   "outputs": [
    {
     "data": {
      "text/plain": [
       "['black', 'green', 'red', 'white', 'yellow']"
      ]
     },
     "execution_count": 5,
     "metadata": {},
     "output_type": "execute_result"
    }
   ],
   "source": [
    "# question 4 \n",
    "item = 'green-red-yellow-black-white'\n",
    "word = item.split('-')\n",
    "word.sort()\n",
    "word"
   ]
  },
  {
   "cell_type": "code",
   "execution_count": 60,
   "id": "f0e5c51a",
   "metadata": {},
   "outputs": [
    {
     "name": "stdout",
     "output_type": "stream",
     "text": [
      "kawtaradadadadadadadada\n"
     ]
    }
   ],
   "source": []
  },
  {
   "cell_type": "code",
   "execution_count": null,
   "id": "7d8663d1",
   "metadata": {},
   "outputs": [],
   "source": []
  }
 ],
 "metadata": {
  "kernelspec": {
   "display_name": "Python 3 (ipykernel)",
   "language": "python",
   "name": "python3"
  },
  "language_info": {
   "codemirror_mode": {
    "name": "ipython",
    "version": 3
   },
   "file_extension": ".py",
   "mimetype": "text/x-python",
   "name": "python",
   "nbconvert_exporter": "python",
   "pygments_lexer": "ipython3",
   "version": "3.9.12"
  }
 },
 "nbformat": 4,
 "nbformat_minor": 5
}
